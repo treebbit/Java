{
 "cells": [
  {
   "cell_type": "markdown",
   "id": "f1b2d63d",
   "metadata": {},
   "source": [
    "# 마크다운 작성법"
   ]
  },
  {
   "cell_type": "markdown",
   "id": "d95da161",
   "metadata": {},
   "source": [
    "## 1. 헤더(Header)"
   ]
  },
  {
   "cell_type": "markdown",
   "id": "2bb615cb",
   "metadata": {},
   "source": [
    "```\n",
    "# 헤더1\n",
    "## 헤더2\n",
    "### 헤더3\n",
    "#### 헤더4\n",
    "##### 헤더5\n",
    "###### 헤더6\n",
    "```"
   ]
  },
  {
   "cell_type": "markdown",
   "id": "7267ce09",
   "metadata": {},
   "source": [
    "# 헤더1\n",
    "## 헤더2\n",
    "### 헤더3\n",
    "#### 헤더4\n",
    "##### 헤더5\n",
    "###### 헤더6"
   ]
  },
  {
   "cell_type": "markdown",
   "id": "74488e53",
   "metadata": {},
   "source": [
    "## 2. 목록(List)"
   ]
  },
  {
   "cell_type": "markdown",
   "id": "613f18e1",
   "metadata": {},
   "source": [
    "```\n",
    "Unordered\n",
    "- 목록 1\n",
    "- 목록 2\n",
    "    - 목록 2A\n",
    "    - 목록 2B\n",
    "        - 목록 2Ba\n",
    "        \n",
    "Ordered\n",
    "1. 목록 1\n",
    "2. 목록 2\n",
    "    1. 목록 2A\n",
    "    2. 목록 2B\n",
    "        1. 목록 2Ba\n",
    "```"
   ]
  },
  {
   "cell_type": "markdown",
   "id": "27cb31ac",
   "metadata": {},
   "source": [
    "Unordered\n",
    "- 목록 1\n",
    "- 목록 2\n",
    "    - 목록 2A\n",
    "    - 목록 2B\n",
    "        - 목록 2Ba\n",
    "        \n",
    "Ordered\n",
    "1. 목록 1\n",
    "2. 목록 2\n",
    "    1. 목록 2A\n",
    "    2. 목록 2B\n",
    "        1. 목록 2Ba"
   ]
  },
  {
   "cell_type": "markdown",
   "id": "960cda81",
   "metadata": {},
   "source": [
    "## 3. 띄어쓰기\n",
    "줄의 마지막에 **Space Bar 두 번** 을 누르면 띄어쓰기가 됩니다."
   ]
  },
  {
   "cell_type": "markdown",
   "id": "141d2b32",
   "metadata": {},
   "source": [
    "```\n",
    "띄어쓰기가(+space bar 0번)\n",
    "없습니다.\n",
    "\n",
    "띄어쓰기가(+space bar 2번)\n",
    "있습니다.\n",
    "```"
   ]
  },
  {
   "cell_type": "markdown",
   "id": "c097e621",
   "metadata": {},
   "source": [
    "띄어쓰기가\n",
    "없습니다.\n",
    "\n",
    "띄어쓰기가  \n",
    "있습니다."
   ]
  },
  {
   "cell_type": "markdown",
   "id": "86f8d13e",
   "metadata": {},
   "source": [
    "## 4. 이미지(Images)"
   ]
  },
  {
   "attachments": {},
   "cell_type": "markdown",
   "id": "546ef323",
   "metadata": {},
   "source": [
    "```\n",
    "![마이펫의이중생활](images/rabbit.jpg)\n",
    "\n",
    "<img src=\"이미지 url주소\" width=\"300px\" alt=\"마이펫이중생활\">\n",
    "```"
   ]
  },
  {
   "cell_type": "markdown",
   "id": "37fb3190",
   "metadata": {},
   "source": [
    "![마이펫의이중생활](images/rabbit.jpg)"
   ]
  },
  {
   "cell_type": "markdown",
   "id": "f3a0a361",
   "metadata": {},
   "source": [
    "<img src=\"https://w.namu.la/s/54be7bc30887403cd701fd0ee32a7a1116a229568297b096e55a73a38e24dbddb8d9596f0841f55df8c170ace3fd155bdbc69bbe55fe6d54cb535caf12613eb2cb6075173006fb135970448859c76ead0d38096d072f27133b4499855cd402b87d82d0c2177d1b315f3c0f6ae13cacf4\" width=\"300px\" alt=\"마이펫이중생활\">"
   ]
  },
  {
   "cell_type": "markdown",
   "id": "7cd0cc49",
   "metadata": {},
   "source": [
    "## 5. 하이퍼링크(Link)"
   ]
  },
  {
   "cell_type": "markdown",
   "id": "877d6b31",
   "metadata": {},
   "source": [
    "```\n",
    "[나의 깃허브 주소](https://github.com/treebbit)\n",
    "```"
   ]
  },
  {
   "cell_type": "markdown",
   "id": "c519eaba",
   "metadata": {},
   "source": [
    "[나의 깃허브 주소](https://github.com/treebbit)"
   ]
  },
  {
   "cell_type": "markdown",
   "id": "cab7a7c9",
   "metadata": {},
   "source": [
    "## 6. 코드 블록(Code Block)"
   ]
  },
  {
   "cell_type": "markdown",
   "id": "02bb7fe0",
   "metadata": {},
   "source": [
    "```\n",
    "    ``` java\n",
    "    public static void main(String args[]){\n",
    "        String str = 자바프로그래밍\n",
    "        System.out.println(str);\n",
    "    }  \n",
    "    ``` \n",
    "```"
   ]
  },
  {
   "cell_type": "markdown",
   "id": "913fdc9c",
   "metadata": {},
   "source": [
    "``` java\n",
    "public static void main(String args[]){\n",
    "    String str = 자바프로그래밍\n",
    "    System.out.println(str);\n",
    "}\n",
    "```"
   ]
  },
  {
   "cell_type": "markdown",
   "id": "414084a1",
   "metadata": {},
   "source": [
    "## 7. 강조(Emphasis)"
   ]
  },
  {
   "cell_type": "markdown",
   "id": "9ea7af56",
   "metadata": {},
   "source": [
    "```\n",
    "*기울여쓰기*\n",
    "_기울여쓰기_\n",
    "\n",
    "**두껍게쓰기**\n",
    "__두껍게쓰기__\n",
    "\n",
    "*기울이고 **두껍게** 쓰기*\n",
    "_기울이고 __두껍게__ 쓰기_\n",
    "```"
   ]
  },
  {
   "cell_type": "markdown",
   "id": "246ceb50",
   "metadata": {},
   "source": [
    "*기울여쓰기*  \n",
    "_기울여쓰기_\n",
    "\n",
    "**두껍게쓰기**  \n",
    "__두껍게쓰기__  \n",
    "\n",
    "*기울이고 **두껍게** 쓰기*  \n",
    "_기울이고 __두껍게__ 쓰기_  "
   ]
  },
  {
   "cell_type": "markdown",
   "id": "675c3bd5",
   "metadata": {},
   "source": [
    "## 8. 테이블(Table)"
   ]
  },
  {
   "cell_type": "markdown",
   "id": "2c616d45",
   "metadata": {},
   "source": [
    "```\n",
    "| 첫번째 헤더 | 두번째 헤더 | 세번째 헤더 | 네번째 헤더 |\n",
    "| - | :- | -: | :-: |\n",
    "| 기본 | 좌 | 우 | 중 |  \n",
    "```"
   ]
  },
  {
   "cell_type": "markdown",
   "id": "b911abcc",
   "metadata": {},
   "source": [
    "| 첫번째 헤더 | 두번째 헤더 | 세번째 헤더 | 네번째 헤더 |\n",
    "| - | :- | -: | :-: |\n",
    "| 기본 | 좌 | 우 | 중 | "
   ]
  },
  {
   "cell_type": "markdown",
   "id": "b2cdb0e3",
   "metadata": {},
   "source": [
    "## 9. 체크 박스(Task List)"
   ]
  },
  {
   "cell_type": "markdown",
   "id": "69d0c2f7",
   "metadata": {},
   "source": [
    "```\n",
    "- [ ] 미완료\n",
    "- [X] 완료\n",
    "- [x] 완료\n",
    "```"
   ]
  },
  {
   "cell_type": "markdown",
   "id": "c2484555",
   "metadata": {},
   "source": [
    "- [ ] 미완료\n",
    "- [X] 완료\n",
    "- [x] 완료"
   ]
  },
  {
   "cell_type": "markdown",
   "id": "5c0f2159",
   "metadata": {},
   "source": [
    "## 9. 인라인 코드(Inline code)"
   ]
  },
  {
   "cell_type": "markdown",
   "id": "8f7b78a6",
   "metadata": {},
   "source": [
    "```\n",
    "`System.out.print(\"Hello world!\");`\n",
    "```"
   ]
  },
  {
   "cell_type": "markdown",
   "id": "8b5399c4",
   "metadata": {},
   "source": [
    "`System.out.print(\"Hello world!\");`"
   ]
  },
  {
   "cell_type": "markdown",
   "id": "1a3cf98c",
   "metadata": {},
   "source": [
    "## 10. 수평선(Horizon)"
   ]
  },
  {
   "cell_type": "markdown",
   "id": "f9e94432",
   "metadata": {},
   "source": [
    "```\n",
    "---\n",
    "***\n",
    "___\n",
    "```"
   ]
  },
  {
   "cell_type": "markdown",
   "id": "afe03219",
   "metadata": {},
   "source": [
    "---\n",
    "***\n",
    "___"
   ]
  },
  {
   "cell_type": "markdown",
   "id": "9cb7f59b",
   "metadata": {},
   "source": [
    "## 11. 이모지(EMOGI)"
   ]
  },
  {
   "cell_type": "markdown",
   "id": "f017f4e6",
   "metadata": {},
   "source": [
    "이모지 사이트 : [EMOJI 사이트](http://emoji-cheat-sheet.com)"
   ]
  },
  {
   "cell_type": "markdown",
   "id": "bf4e9871",
   "metadata": {},
   "source": [
    "```\n",
    ":+1:  \n",
    ":octocat:\n",
    "```"
   ]
  },
  {
   "cell_type": "markdown",
   "id": "e63411c4",
   "metadata": {},
   "source": [
    ":+1:  \n",
    ":octocat:"
   ]
  },
  {
   "cell_type": "markdown",
   "id": "63b8e6f0",
   "metadata": {},
   "source": [
    "## 12. 배지(bedge)만들기"
   ]
  },
  {
   "cell_type": "markdown",
   "id": "9292dc61",
   "metadata": {},
   "source": [
    "배지 사이트 : [배지 만드는 사이트](https://shields.io/)"
   ]
  },
  {
   "cell_type": "markdown",
   "id": "b3e75e8e",
   "metadata": {},
   "source": [
    "```\n",
    "<img src=\"https://img.shields.io/badge/update%20date-2021.07.28-green\">\n",
    "```"
   ]
  },
  {
   "cell_type": "markdown",
   "id": "d7fee996",
   "metadata": {},
   "source": [
    "<img src=\"https://img.shields.io/badge/update%20date-2021.07.28-green\">"
   ]
  }
 ],
 "metadata": {
  "kernelspec": {
   "display_name": "Python 3",
   "language": "python",
   "name": "python3"
  },
  "language_info": {
   "codemirror_mode": {
    "name": "ipython",
    "version": 3
   },
   "file_extension": ".py",
   "mimetype": "text/x-python",
   "name": "python",
   "nbconvert_exporter": "python",
   "pygments_lexer": "ipython3",
   "version": "3.8.8"
  },
  "toc": {
   "base_numbering": 1,
   "nav_menu": {},
   "number_sections": false,
   "sideBar": true,
   "skip_h1_title": false,
   "title_cell": "Table of Contents",
   "title_sidebar": "Contents",
   "toc_cell": false,
   "toc_position": {
    "height": "calc(100% - 180px)",
    "left": "10px",
    "top": "150px",
    "width": "279.273px"
   },
   "toc_section_display": true,
   "toc_window_display": true
  }
 },
 "nbformat": 4,
 "nbformat_minor": 5
}
